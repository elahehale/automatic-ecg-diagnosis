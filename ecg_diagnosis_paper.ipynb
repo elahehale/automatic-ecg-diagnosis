{
  "nbformat": 4,
  "nbformat_minor": 0,
  "metadata": {
    "colab": {
      "provenance": [],
      "gpuType": "T4"
    },
    "kernelspec": {
      "name": "python3",
      "display_name": "Python 3"
    },
    "language_info": {
      "name": "python"
    },
    "accelerator": "GPU"
  },
  "cells": [
    {
      "cell_type": "code",
      "execution_count": 1,
      "metadata": {
        "colab": {
          "base_uri": "https://localhost:8080/"
        },
        "id": "m3uRynJwU3I2",
        "outputId": "704ea89a-0874-44e4-c7be-e55caf179b41"
      },
      "outputs": [
        {
          "output_type": "stream",
          "name": "stdout",
          "text": [
            "Cloning into 'automatic-ecg-diagnosis'...\n",
            "remote: Enumerating objects: 170, done.\u001b[K\n",
            "remote: Counting objects: 100% (50/50), done.\u001b[K\n",
            "remote: Compressing objects: 100% (26/26), done.\u001b[K\n",
            "remote: Total 170 (delta 35), reused 25 (delta 24), pack-reused 120\u001b[K\n",
            "Receiving objects: 100% (170/170), 811.98 KiB | 4.64 MiB/s, done.\n",
            "Resolving deltas: 100% (79/79), done.\n"
          ]
        }
      ],
      "source": [
        "!git clone https://github.com/elahehale/automatic-ecg-diagnosis.git\n"
      ]
    },
    {
      "cell_type": "code",
      "source": [
        "cd automatic-ecg-diagnosis"
      ],
      "metadata": {
        "colab": {
          "base_uri": "https://localhost:8080/"
        },
        "id": "vxrDIWURVHFf",
        "outputId": "a700a770-9db8-49f8-e577-639e01d7ae75"
      },
      "execution_count": 2,
      "outputs": [
        {
          "output_type": "stream",
          "name": "stdout",
          "text": [
            "/content/automatic-ecg-diagnosis\n"
          ]
        }
      ]
    },
    {
      "cell_type": "code",
      "source": [
        "!ls"
      ],
      "metadata": {
        "colab": {
          "base_uri": "https://localhost:8080/"
        },
        "id": "IJ-y3T_uWT1w",
        "outputId": "5aad237f-b544-4910-808f-a16886f85e16"
      },
      "execution_count": 3,
      "outputs": [
        {
          "output_type": "stream",
          "name": "stdout",
          "text": [
            "data\t     dnn_predicts\t\t     LICENSE   outputs\t   README.md\t     train.py\n",
            "datasets.py  generate_figures_and_tables.py  model.py  predict.py  requirements.txt\n"
          ]
        }
      ]
    },
    {
      "cell_type": "code",
      "source": [
        "!pip install -r requirements.txt"
      ],
      "metadata": {
        "colab": {
          "base_uri": "https://localhost:8080/"
        },
        "id": "toDyhozjWG-C",
        "outputId": "822a33f4-44ff-4e50-fe9f-5d385d147fcb"
      },
      "execution_count": 4,
      "outputs": [
        {
          "output_type": "stream",
          "name": "stdout",
          "text": [
            "Requirement already satisfied: numpy>=1.14.3 in /usr/local/lib/python3.10/dist-packages (from -r requirements.txt (line 1)) (1.25.2)\n",
            "Requirement already satisfied: pandas>=0.22 in /usr/local/lib/python3.10/dist-packages (from -r requirements.txt (line 2)) (2.0.3)\n",
            "Requirement already satisfied: tensorflow in /usr/local/lib/python3.10/dist-packages (from -r requirements.txt (line 3)) (2.15.0)\n",
            "Requirement already satisfied: h5py>=2.8 in /usr/local/lib/python3.10/dist-packages (from -r requirements.txt (line 4)) (3.11.0)\n",
            "Collecting xmljson>=0.1.9 (from -r requirements.txt (line 5))\n",
            "  Downloading xmljson-0.2.1-py2.py3-none-any.whl.metadata (12 kB)\n",
            "Requirement already satisfied: scipy>=1.1 in /usr/local/lib/python3.10/dist-packages (from -r requirements.txt (line 6)) (1.13.1)\n",
            "Requirement already satisfied: scikit-learn>=0.20 in /usr/local/lib/python3.10/dist-packages (from -r requirements.txt (line 7)) (1.3.2)\n",
            "Requirement already satisfied: tqdm>=4.26 in /usr/local/lib/python3.10/dist-packages (from -r requirements.txt (line 8)) (4.66.4)\n",
            "Requirement already satisfied: xarray>=0.11.2 in /usr/local/lib/python3.10/dist-packages (from -r requirements.txt (line 9)) (2024.6.0)\n",
            "Requirement already satisfied: seaborn>=0.9 in /usr/local/lib/python3.10/dist-packages (from -r requirements.txt (line 10)) (0.13.1)\n",
            "Requirement already satisfied: openpyxl>=3.0 in /usr/local/lib/python3.10/dist-packages (from -r requirements.txt (line 11)) (3.1.5)\n",
            "Requirement already satisfied: python-dateutil>=2.8.2 in /usr/local/lib/python3.10/dist-packages (from pandas>=0.22->-r requirements.txt (line 2)) (2.8.2)\n",
            "Requirement already satisfied: pytz>=2020.1 in /usr/local/lib/python3.10/dist-packages (from pandas>=0.22->-r requirements.txt (line 2)) (2024.1)\n",
            "Requirement already satisfied: tzdata>=2022.1 in /usr/local/lib/python3.10/dist-packages (from pandas>=0.22->-r requirements.txt (line 2)) (2024.1)\n",
            "Requirement already satisfied: absl-py>=1.0.0 in /usr/local/lib/python3.10/dist-packages (from tensorflow->-r requirements.txt (line 3)) (1.4.0)\n",
            "Requirement already satisfied: astunparse>=1.6.0 in /usr/local/lib/python3.10/dist-packages (from tensorflow->-r requirements.txt (line 3)) (1.6.3)\n",
            "Requirement already satisfied: flatbuffers>=23.5.26 in /usr/local/lib/python3.10/dist-packages (from tensorflow->-r requirements.txt (line 3)) (24.3.25)\n",
            "Requirement already satisfied: gast!=0.5.0,!=0.5.1,!=0.5.2,>=0.2.1 in /usr/local/lib/python3.10/dist-packages (from tensorflow->-r requirements.txt (line 3)) (0.6.0)\n",
            "Requirement already satisfied: google-pasta>=0.1.1 in /usr/local/lib/python3.10/dist-packages (from tensorflow->-r requirements.txt (line 3)) (0.2.0)\n",
            "Requirement already satisfied: libclang>=13.0.0 in /usr/local/lib/python3.10/dist-packages (from tensorflow->-r requirements.txt (line 3)) (18.1.1)\n",
            "Requirement already satisfied: ml-dtypes~=0.2.0 in /usr/local/lib/python3.10/dist-packages (from tensorflow->-r requirements.txt (line 3)) (0.2.0)\n",
            "Requirement already satisfied: opt-einsum>=2.3.2 in /usr/local/lib/python3.10/dist-packages (from tensorflow->-r requirements.txt (line 3)) (3.3.0)\n",
            "Requirement already satisfied: packaging in /usr/local/lib/python3.10/dist-packages (from tensorflow->-r requirements.txt (line 3)) (24.1)\n",
            "Requirement already satisfied: protobuf!=4.21.0,!=4.21.1,!=4.21.2,!=4.21.3,!=4.21.4,!=4.21.5,<5.0.0dev,>=3.20.3 in /usr/local/lib/python3.10/dist-packages (from tensorflow->-r requirements.txt (line 3)) (3.20.3)\n",
            "Requirement already satisfied: setuptools in /usr/local/lib/python3.10/dist-packages (from tensorflow->-r requirements.txt (line 3)) (71.0.4)\n",
            "Requirement already satisfied: six>=1.12.0 in /usr/local/lib/python3.10/dist-packages (from tensorflow->-r requirements.txt (line 3)) (1.16.0)\n",
            "Requirement already satisfied: termcolor>=1.1.0 in /usr/local/lib/python3.10/dist-packages (from tensorflow->-r requirements.txt (line 3)) (2.4.0)\n",
            "Requirement already satisfied: typing-extensions>=3.6.6 in /usr/local/lib/python3.10/dist-packages (from tensorflow->-r requirements.txt (line 3)) (4.12.2)\n",
            "Requirement already satisfied: wrapt<1.15,>=1.11.0 in /usr/local/lib/python3.10/dist-packages (from tensorflow->-r requirements.txt (line 3)) (1.14.1)\n",
            "Requirement already satisfied: tensorflow-io-gcs-filesystem>=0.23.1 in /usr/local/lib/python3.10/dist-packages (from tensorflow->-r requirements.txt (line 3)) (0.37.1)\n",
            "Requirement already satisfied: grpcio<2.0,>=1.24.3 in /usr/local/lib/python3.10/dist-packages (from tensorflow->-r requirements.txt (line 3)) (1.64.1)\n",
            "Requirement already satisfied: tensorboard<2.16,>=2.15 in /usr/local/lib/python3.10/dist-packages (from tensorflow->-r requirements.txt (line 3)) (2.15.2)\n",
            "Requirement already satisfied: tensorflow-estimator<2.16,>=2.15.0 in /usr/local/lib/python3.10/dist-packages (from tensorflow->-r requirements.txt (line 3)) (2.15.0)\n",
            "Requirement already satisfied: keras<2.16,>=2.15.0 in /usr/local/lib/python3.10/dist-packages (from tensorflow->-r requirements.txt (line 3)) (2.15.0)\n",
            "Requirement already satisfied: joblib>=1.1.1 in /usr/local/lib/python3.10/dist-packages (from scikit-learn>=0.20->-r requirements.txt (line 7)) (1.4.2)\n",
            "Requirement already satisfied: threadpoolctl>=2.0.0 in /usr/local/lib/python3.10/dist-packages (from scikit-learn>=0.20->-r requirements.txt (line 7)) (3.5.0)\n",
            "Requirement already satisfied: matplotlib!=3.6.1,>=3.4 in /usr/local/lib/python3.10/dist-packages (from seaborn>=0.9->-r requirements.txt (line 10)) (3.7.1)\n",
            "Requirement already satisfied: et-xmlfile in /usr/local/lib/python3.10/dist-packages (from openpyxl>=3.0->-r requirements.txt (line 11)) (1.1.0)\n",
            "Requirement already satisfied: wheel<1.0,>=0.23.0 in /usr/local/lib/python3.10/dist-packages (from astunparse>=1.6.0->tensorflow->-r requirements.txt (line 3)) (0.43.0)\n",
            "Requirement already satisfied: contourpy>=1.0.1 in /usr/local/lib/python3.10/dist-packages (from matplotlib!=3.6.1,>=3.4->seaborn>=0.9->-r requirements.txt (line 10)) (1.2.1)\n",
            "Requirement already satisfied: cycler>=0.10 in /usr/local/lib/python3.10/dist-packages (from matplotlib!=3.6.1,>=3.4->seaborn>=0.9->-r requirements.txt (line 10)) (0.12.1)\n",
            "Requirement already satisfied: fonttools>=4.22.0 in /usr/local/lib/python3.10/dist-packages (from matplotlib!=3.6.1,>=3.4->seaborn>=0.9->-r requirements.txt (line 10)) (4.53.1)\n",
            "Requirement already satisfied: kiwisolver>=1.0.1 in /usr/local/lib/python3.10/dist-packages (from matplotlib!=3.6.1,>=3.4->seaborn>=0.9->-r requirements.txt (line 10)) (1.4.5)\n",
            "Requirement already satisfied: pillow>=6.2.0 in /usr/local/lib/python3.10/dist-packages (from matplotlib!=3.6.1,>=3.4->seaborn>=0.9->-r requirements.txt (line 10)) (9.4.0)\n",
            "Requirement already satisfied: pyparsing>=2.3.1 in /usr/local/lib/python3.10/dist-packages (from matplotlib!=3.6.1,>=3.4->seaborn>=0.9->-r requirements.txt (line 10)) (3.1.2)\n",
            "Requirement already satisfied: google-auth<3,>=1.6.3 in /usr/local/lib/python3.10/dist-packages (from tensorboard<2.16,>=2.15->tensorflow->-r requirements.txt (line 3)) (2.27.0)\n",
            "Requirement already satisfied: google-auth-oauthlib<2,>=0.5 in /usr/local/lib/python3.10/dist-packages (from tensorboard<2.16,>=2.15->tensorflow->-r requirements.txt (line 3)) (1.2.1)\n",
            "Requirement already satisfied: markdown>=2.6.8 in /usr/local/lib/python3.10/dist-packages (from tensorboard<2.16,>=2.15->tensorflow->-r requirements.txt (line 3)) (3.6)\n",
            "Requirement already satisfied: requests<3,>=2.21.0 in /usr/local/lib/python3.10/dist-packages (from tensorboard<2.16,>=2.15->tensorflow->-r requirements.txt (line 3)) (2.31.0)\n",
            "Requirement already satisfied: tensorboard-data-server<0.8.0,>=0.7.0 in /usr/local/lib/python3.10/dist-packages (from tensorboard<2.16,>=2.15->tensorflow->-r requirements.txt (line 3)) (0.7.2)\n",
            "Requirement already satisfied: werkzeug>=1.0.1 in /usr/local/lib/python3.10/dist-packages (from tensorboard<2.16,>=2.15->tensorflow->-r requirements.txt (line 3)) (3.0.3)\n",
            "Requirement already satisfied: cachetools<6.0,>=2.0.0 in /usr/local/lib/python3.10/dist-packages (from google-auth<3,>=1.6.3->tensorboard<2.16,>=2.15->tensorflow->-r requirements.txt (line 3)) (5.4.0)\n",
            "Requirement already satisfied: pyasn1-modules>=0.2.1 in /usr/local/lib/python3.10/dist-packages (from google-auth<3,>=1.6.3->tensorboard<2.16,>=2.15->tensorflow->-r requirements.txt (line 3)) (0.4.0)\n",
            "Requirement already satisfied: rsa<5,>=3.1.4 in /usr/local/lib/python3.10/dist-packages (from google-auth<3,>=1.6.3->tensorboard<2.16,>=2.15->tensorflow->-r requirements.txt (line 3)) (4.9)\n",
            "Requirement already satisfied: requests-oauthlib>=0.7.0 in /usr/local/lib/python3.10/dist-packages (from google-auth-oauthlib<2,>=0.5->tensorboard<2.16,>=2.15->tensorflow->-r requirements.txt (line 3)) (1.3.1)\n",
            "Requirement already satisfied: charset-normalizer<4,>=2 in /usr/local/lib/python3.10/dist-packages (from requests<3,>=2.21.0->tensorboard<2.16,>=2.15->tensorflow->-r requirements.txt (line 3)) (3.3.2)\n",
            "Requirement already satisfied: idna<4,>=2.5 in /usr/local/lib/python3.10/dist-packages (from requests<3,>=2.21.0->tensorboard<2.16,>=2.15->tensorflow->-r requirements.txt (line 3)) (3.7)\n",
            "Requirement already satisfied: urllib3<3,>=1.21.1 in /usr/local/lib/python3.10/dist-packages (from requests<3,>=2.21.0->tensorboard<2.16,>=2.15->tensorflow->-r requirements.txt (line 3)) (2.0.7)\n",
            "Requirement already satisfied: certifi>=2017.4.17 in /usr/local/lib/python3.10/dist-packages (from requests<3,>=2.21.0->tensorboard<2.16,>=2.15->tensorflow->-r requirements.txt (line 3)) (2024.7.4)\n",
            "Requirement already satisfied: MarkupSafe>=2.1.1 in /usr/local/lib/python3.10/dist-packages (from werkzeug>=1.0.1->tensorboard<2.16,>=2.15->tensorflow->-r requirements.txt (line 3)) (2.1.5)\n",
            "Requirement already satisfied: pyasn1<0.7.0,>=0.4.6 in /usr/local/lib/python3.10/dist-packages (from pyasn1-modules>=0.2.1->google-auth<3,>=1.6.3->tensorboard<2.16,>=2.15->tensorflow->-r requirements.txt (line 3)) (0.6.0)\n",
            "Requirement already satisfied: oauthlib>=3.0.0 in /usr/local/lib/python3.10/dist-packages (from requests-oauthlib>=0.7.0->google-auth-oauthlib<2,>=0.5->tensorboard<2.16,>=2.15->tensorflow->-r requirements.txt (line 3)) (3.2.2)\n",
            "Downloading xmljson-0.2.1-py2.py3-none-any.whl (10 kB)\n",
            "Installing collected packages: xmljson\n",
            "Successfully installed xmljson-0.2.1\n"
          ]
        }
      ]
    },
    {
      "cell_type": "code",
      "source": [
        "!wget  \"https://zenodo.org/records/4916206/files/exams_part0.zip?download=1\""
      ],
      "metadata": {
        "colab": {
          "base_uri": "https://localhost:8080/"
        },
        "id": "hI7s7LcZXI7S",
        "outputId": "5ba74fec-faa7-4167-d2b9-d335028717da"
      },
      "execution_count": 5,
      "outputs": [
        {
          "output_type": "stream",
          "name": "stdout",
          "text": [
            "--2024-07-29 09:07:39--  https://zenodo.org/records/4916206/files/exams_part0.zip?download=1\n",
            "Resolving zenodo.org (zenodo.org)... 188.185.79.172, 188.184.98.238, 188.184.103.159, ...\n",
            "Connecting to zenodo.org (zenodo.org)|188.185.79.172|:443... connected.\n",
            "HTTP request sent, awaiting response... 200 OK\n",
            "Length: 2672786404 (2.5G) [application/octet-stream]\n",
            "Saving to: ‘exams_part0.zip?download=1’\n",
            "\n",
            "exams_part0.zip?dow 100%[===================>]   2.49G  65.3MB/s    in 76s     \n",
            "\n",
            "2024-07-29 09:08:55 (33.6 MB/s) - ‘exams_part0.zip?download=1’ saved [2672786404/2672786404]\n",
            "\n"
          ]
        }
      ]
    },
    {
      "cell_type": "code",
      "source": [
        "!unzip exams_part0.zip?download=1 -d dataset/"
      ],
      "metadata": {
        "colab": {
          "base_uri": "https://localhost:8080/"
        },
        "id": "ZBQWwjOeY2Nt",
        "outputId": "bd8b3543-bc9a-4ad5-d85e-3c3c5b91f827"
      },
      "execution_count": 6,
      "outputs": [
        {
          "output_type": "stream",
          "name": "stdout",
          "text": [
            "Archive:  exams_part0.zip?download=1\n",
            "  inflating: dataset/exams_part0.hdf5  \n"
          ]
        }
      ]
    },
    {
      "cell_type": "code",
      "source": [
        "ls"
      ],
      "metadata": {
        "colab": {
          "base_uri": "https://localhost:8080/"
        },
        "id": "qhfozj6acWHa",
        "outputId": "01531987-1957-40da-ae46-e974143ae19f"
      },
      "execution_count": null,
      "outputs": [
        {
          "output_type": "stream",
          "name": "stdout",
          "text": [
            " \u001b[0m\u001b[01;34mdata\u001b[0m/         \u001b[01;34mdnn_predicts\u001b[0m/                    LICENSE    predict.py         train.py\n",
            " \u001b[01;34mdataset\u001b[0m/     'exams_part0.zip?download=1'      model.py   README.md\n",
            " datasets.py   generate_figures_and_tables.py   \u001b[01;34moutputs\u001b[0m/   requirements.txt\n"
          ]
        }
      ]
    },
    {
      "cell_type": "markdown",
      "source": [],
      "metadata": {
        "id": "5qPwHm0hRVeK"
      }
    },
    {
      "cell_type": "code",
      "source": [
        "import tensorflow as tf\n",
        "\n",
        "# Set TensorFlow to use GPU\n",
        "tf.config.set_visible_devices([], 'GPU')\n"
      ],
      "metadata": {
        "id": "LIAJ9RIzh2mR"
      },
      "execution_count": 7,
      "outputs": []
    },
    {
      "cell_type": "code",
      "source": [
        " !python train.py dataset/exams_part0.hdf5 dataset/part0.csv"
      ],
      "metadata": {
        "colab": {
          "base_uri": "https://localhost:8080/"
        },
        "id": "g_aU8PaScHyv",
        "outputId": "61dafaaa-8b16-45fa-c72b-0115d1ddb9f1"
      },
      "execution_count": null,
      "outputs": [
        {
          "output_type": "stream",
          "name": "stdout",
          "text": [
            "2024-07-29 12:26:53.153102: E external/local_xla/xla/stream_executor/cuda/cuda_dnn.cc:9261] Unable to register cuDNN factory: Attempting to register factory for plugin cuDNN when one has already been registered\n",
            "2024-07-29 12:26:53.153164: E external/local_xla/xla/stream_executor/cuda/cuda_fft.cc:607] Unable to register cuFFT factory: Attempting to register factory for plugin cuFFT when one has already been registered\n",
            "2024-07-29 12:26:53.223094: E external/local_xla/xla/stream_executor/cuda/cuda_blas.cc:1515] Unable to register cuBLAS factory: Attempting to register factory for plugin cuBLAS when one has already been registered\n",
            "2024-07-29 12:26:55.925299: W tensorflow/compiler/tf2tensorrt/utils/py_utils.cc:38] TF-TRT Warning: Could not find TensorRT\n",
            "2024-07-29 12:27:03.106124: W tensorflow/core/common_runtime/gpu/gpu_bfc_allocator.cc:47] Overriding orig_value setting because the TF_FORCE_GPU_ALLOW_GROWTH environment variable is set. Original config value was 0.\n",
            "exam_id\n",
            "tracings\n",
            "590673 first index in hdf5 file\n",
            "Shape of x: (20000, 4096, 12)\n",
            "Shape of y: (20000, 6)\n",
            "First data sample in x: [[-4.8781034e-01 -2.6677129e-01  2.2103906e-01 ... -1.1737937e+00\n",
            "  -5.5640870e-01 -4.8781034e-01]\n",
            " [-4.8106578e-01 -2.6019633e-01  2.2086945e-01 ... -1.1674997e+00\n",
            "  -5.5151391e-01 -4.8232922e-01]\n",
            " [-4.7979322e-01 -2.5791711e-01  2.2187607e-01 ... -1.1599243e+00\n",
            "  -5.4229915e-01 -4.7729760e-01]\n",
            " ...\n",
            " [-1.3724924e+00 -1.2811700e+00  9.1322273e-02 ... -8.7824506e-01\n",
            "  -5.0396240e-01  8.5938675e-04]\n",
            " [-1.3667058e+00 -1.2758980e+00  9.0807825e-02 ... -8.6861408e-01\n",
            "  -4.9709535e-01  1.6935735e-03]\n",
            " [-1.3614640e+00 -1.2694675e+00  9.1996796e-02 ... -8.5737538e-01\n",
            "  -4.8235169e-01  1.0566236e-02]]\n",
            "exam_id\n",
            "tracings\n",
            "590673 first index in hdf5 file\n",
            "Shape of x: (20000, 4096, 12)\n",
            "Shape of y: (20000, 6)\n",
            "First data sample in x: [[-4.8781034e-01 -2.6677129e-01  2.2103906e-01 ... -1.1737937e+00\n",
            "  -5.5640870e-01 -4.8781034e-01]\n",
            " [-4.8106578e-01 -2.6019633e-01  2.2086945e-01 ... -1.1674997e+00\n",
            "  -5.5151391e-01 -4.8232922e-01]\n",
            " [-4.7979322e-01 -2.5791711e-01  2.2187607e-01 ... -1.1599243e+00\n",
            "  -5.4229915e-01 -4.7729760e-01]\n",
            " ...\n",
            " [-1.3724924e+00 -1.2811700e+00  9.1322273e-02 ... -8.7824506e-01\n",
            "  -5.0396240e-01  8.5938675e-04]\n",
            " [-1.3667058e+00 -1.2758980e+00  9.0807825e-02 ... -8.6861408e-01\n",
            "  -4.9709535e-01  1.6935735e-03]\n",
            " [-1.3614640e+00 -1.2694675e+00  9.1996796e-02 ... -8.5737538e-01\n",
            "  -4.8235169e-01  1.0566236e-02]]\n",
            "[[[-4.8781034e-01 -2.6677129e-01  2.2103906e-01 ... -1.1737937e+00\n",
            "   -5.5640870e-01 -4.8781034e-01]\n",
            "  [-4.8106578e-01 -2.6019633e-01  2.2086945e-01 ... -1.1674997e+00\n",
            "   -5.5151391e-01 -4.8232922e-01]\n",
            "  [-4.7979322e-01 -2.5791711e-01  2.2187607e-01 ... -1.1599243e+00\n",
            "   -5.4229915e-01 -4.7729760e-01]\n",
            "  ...\n",
            "  [-1.3724924e+00 -1.2811700e+00  9.1322273e-02 ... -8.7824506e-01\n",
            "   -5.0396240e-01  8.5938675e-04]\n",
            "  [-1.3667058e+00 -1.2758980e+00  9.0807825e-02 ... -8.6861408e-01\n",
            "   -4.9709535e-01  1.6935735e-03]\n",
            "  [-1.3614640e+00 -1.2694675e+00  9.1996796e-02 ... -8.5737538e-01\n",
            "   -4.8235169e-01  1.0566236e-02]]\n",
            "\n",
            " [[ 4.7104187e+00  3.4908926e+00 -1.2195258e+00 ... -2.7439332e-01\n",
            "    6.4787310e-01  1.1128174e+00]\n",
            "  [ 4.7069054e+00  3.4883175e+00 -1.2185876e+00 ... -2.7435562e-01\n",
            "    6.4121950e-01  1.1126217e+00]\n",
            "  [ 4.7019477e+00  3.4869583e+00 -1.2149894e+00 ... -2.7643222e-01\n",
            "    6.3891876e-01  1.1082902e+00]\n",
            "  ...\n",
            "  [ 3.2337718e+00  1.3490096e+00 -1.8847623e+00 ... -1.0202482e+00\n",
            "   -1.3055870e-01 -6.6891944e-01]\n",
            "  [ 3.2412338e+00  1.3439417e+00 -1.8972923e+00 ... -1.0202823e+00\n",
            "   -1.2718490e-01 -6.7022973e-01]\n",
            "  [ 3.2448351e+00  1.3389999e+00 -1.9058354e+00 ... -1.0213133e+00\n",
            "   -1.3284931e-01 -6.7119771e-01]]\n",
            "\n",
            " [[ 0.0000000e+00  0.0000000e+00  0.0000000e+00 ...  0.0000000e+00\n",
            "    0.0000000e+00  0.0000000e+00]\n",
            "  [ 0.0000000e+00  0.0000000e+00  0.0000000e+00 ...  0.0000000e+00\n",
            "    0.0000000e+00  0.0000000e+00]\n",
            "  [ 0.0000000e+00  0.0000000e+00  0.0000000e+00 ...  0.0000000e+00\n",
            "    0.0000000e+00  0.0000000e+00]\n",
            "  ...\n",
            "  [ 0.0000000e+00  0.0000000e+00  0.0000000e+00 ...  0.0000000e+00\n",
            "    0.0000000e+00  0.0000000e+00]\n",
            "  [ 0.0000000e+00  0.0000000e+00  0.0000000e+00 ...  0.0000000e+00\n",
            "    0.0000000e+00  0.0000000e+00]\n",
            "  [ 0.0000000e+00  0.0000000e+00  0.0000000e+00 ...  0.0000000e+00\n",
            "    0.0000000e+00  0.0000000e+00]]\n",
            "\n",
            " ...\n",
            "\n",
            " [[ 0.0000000e+00  0.0000000e+00  0.0000000e+00 ...  0.0000000e+00\n",
            "    0.0000000e+00  0.0000000e+00]\n",
            "  [ 0.0000000e+00  0.0000000e+00  0.0000000e+00 ...  0.0000000e+00\n",
            "    0.0000000e+00  0.0000000e+00]\n",
            "  [ 0.0000000e+00  0.0000000e+00  0.0000000e+00 ...  0.0000000e+00\n",
            "    0.0000000e+00  0.0000000e+00]\n",
            "  ...\n",
            "  [ 0.0000000e+00  0.0000000e+00  0.0000000e+00 ...  0.0000000e+00\n",
            "    0.0000000e+00  0.0000000e+00]\n",
            "  [ 0.0000000e+00  0.0000000e+00  0.0000000e+00 ...  0.0000000e+00\n",
            "    0.0000000e+00  0.0000000e+00]\n",
            "  [ 0.0000000e+00  0.0000000e+00  0.0000000e+00 ...  0.0000000e+00\n",
            "    0.0000000e+00  0.0000000e+00]]\n",
            "\n",
            " [[ 0.0000000e+00  0.0000000e+00  0.0000000e+00 ...  0.0000000e+00\n",
            "    0.0000000e+00  0.0000000e+00]\n",
            "  [ 0.0000000e+00  0.0000000e+00  0.0000000e+00 ...  0.0000000e+00\n",
            "    0.0000000e+00  0.0000000e+00]\n",
            "  [ 0.0000000e+00  0.0000000e+00  0.0000000e+00 ...  0.0000000e+00\n",
            "    0.0000000e+00  0.0000000e+00]\n",
            "  ...\n",
            "  [ 0.0000000e+00  0.0000000e+00  0.0000000e+00 ...  0.0000000e+00\n",
            "    0.0000000e+00  0.0000000e+00]\n",
            "  [ 0.0000000e+00  0.0000000e+00  0.0000000e+00 ...  0.0000000e+00\n",
            "    0.0000000e+00  0.0000000e+00]\n",
            "  [ 0.0000000e+00  0.0000000e+00  0.0000000e+00 ...  0.0000000e+00\n",
            "    0.0000000e+00  0.0000000e+00]]\n",
            "\n",
            " [[ 2.6677129e-01  5.7927477e-01  3.1250349e-01 ...  1.0670851e-01\n",
            "    8.3080190e-01 -2.6982012e+00]\n",
            "  [ 2.6778805e-01  5.7443285e-01  3.0664486e-01 ...  9.0946034e-02\n",
            "    8.2665092e-01 -2.7016087e+00]\n",
            "  [ 2.6224503e-01  5.6280667e-01  3.0056167e-01 ...  7.3107675e-02\n",
            "    8.1369811e-01 -2.7063200e+00]\n",
            "  ...\n",
            "  [ 1.1951894e-01  3.1130388e-01  1.9178496e-01 ... -1.2996650e-01\n",
            "    8.8944286e-01 -1.6984448e+00]\n",
            "  [ 1.2644379e-01  3.1674707e-01  1.9030328e-01 ... -1.2885189e-01\n",
            "    8.9603120e-01 -1.6981733e+00]\n",
            "  [ 1.3006547e-01  3.1913665e-01  1.8907119e-01 ... -1.2993276e-01\n",
            "    8.9771056e-01 -1.6980804e+00]]]\n",
            "iiiiiiiiiiiiiiiiiiiiiiiiiiiiiiiiiiiiiiiiiiiiiii\n",
            "[[0. 0. 0. 0. 0. 0.]\n",
            " [0. 0. 0. 0. 0. 0.]\n",
            " [0. 0. 0. 0. 0. 0.]\n",
            " ...\n",
            " [0. 0. 0. 0. 0. 0.]\n",
            " [0. 0. 0. 0. 0. 0.]\n",
            " [0. 0. 1. 0. 0. 1.]]\n",
            "Input shape: (None, 4096, 12)\n",
            "After initial Conv1D: (None, 4096, 64)\n",
            "After first ResidualUnit: (None, 1024, 128) (None, 1024, 128)\n",
            "After second ResidualUnit: (None, 256, 196) (None, 256, 196)\n",
            "After third ResidualUnit: (None, 64, 256) (None, 64, 256)\n",
            "After fourth ResidualUnit: (None, 16, 320)\n",
            "After Flatten: (None, 5120)\n",
            "After Dense: (None, 6)\n",
            "Epoch 1/70\n",
            "WARNING: All log messages before absl::InitializeLog() is called are written to STDERR\n",
            "I0000 00:00:1722256075.076271   53773 device_compiler.h:186] Compiled cluster using XLA!  This line is logged at most once for the lifetime of the process.\n",
            "613/613 [==============================] - ETA: 0s - loss: 0.2601 - accuracy: 0.1209/usr/local/lib/python3.10/dist-packages/keras/src/engine/training.py:3103: UserWarning: You are saving your model as an HDF5 file via `model.save()`. This file format is considered legacy. We recommend using instead the native Keras format, e.g. `model.save('my_model.keras')`.\n",
            "  saving_api.save_model(\n",
            "613/613 [==============================] - 97s 132ms/step - loss: 0.2601 - accuracy: 0.1209 - val_loss: 0.3949 - val_accuracy: 0.0225 - lr: 0.0010\n",
            "Epoch 2/70\n",
            "613/613 [==============================] - 80s 130ms/step - loss: 0.2948 - accuracy: 0.1743 - val_loss: 0.3303 - val_accuracy: 0.7300 - lr: 0.0010\n",
            "Epoch 3/70\n",
            "613/613 [==============================] - 80s 130ms/step - loss: 0.3591 - accuracy: 0.1931 - val_loss: 0.3901 - val_accuracy: 0.1650 - lr: 0.0010\n",
            "Epoch 4/70\n",
            "613/613 [==============================] - 79s 129ms/step - loss: 0.4402 - accuracy: 0.2069 - val_loss: 0.4111 - val_accuracy: 0.0675 - lr: 0.0010\n",
            "Epoch 5/70\n",
            "613/613 [==============================] - 79s 130ms/step - loss: 0.4468 - accuracy: 0.2083 - val_loss: 0.6387 - val_accuracy: 0.3900 - lr: 0.0010\n",
            "Epoch 6/70\n",
            "613/613 [==============================] - 79s 129ms/step - loss: 0.4774 - accuracy: 0.2076 - val_loss: 0.7213 - val_accuracy: 0.0700 - lr: 0.0010\n",
            "Epoch 7/70\n",
            "613/613 [==============================] - 79s 129ms/step - loss: 0.4704 - accuracy: 0.2077 - val_loss: 0.3676 - val_accuracy: 0.0725 - lr: 0.0010\n",
            "Epoch 8/70\n",
            "613/613 [==============================] - 79s 129ms/step - loss: 0.4767 - accuracy: 0.1983 - val_loss: 0.4162 - val_accuracy: 0.0450 - lr: 0.0010\n",
            "Epoch 9/70\n",
            "613/613 [==============================] - 79s 129ms/step - loss: 0.4902 - accuracy: 0.1976 - val_loss: 0.4972 - val_accuracy: 0.0350 - lr: 0.0010\n",
            "Epoch 10/70\n",
            "613/613 [==============================] - 79s 130ms/step - loss: 0.4050 - accuracy: 0.1988 - val_loss: 0.4394 - val_accuracy: 0.0575 - lr: 1.0000e-04\n",
            "Epoch 11/70\n",
            "544/613 [=========================>....] - ETA: 8s - loss: 0.4008 - accuracy: 0.1978"
          ]
        }
      ]
    }
  ]
}